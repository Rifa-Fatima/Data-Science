{
 "cells": [
  {
   "cell_type": "markdown",
   "metadata": {},
   "source": [
    "pip install numpy\n"
   ]
  },
  {
   "cell_type": "code",
   "execution_count": 3,
   "metadata": {},
   "outputs": [],
   "source": [
    "import numpy as np\n"
   ]
  },
  {
   "cell_type": "code",
   "execution_count": 4,
   "metadata": {},
   "outputs": [
    {
     "name": "stdout",
     "output_type": "stream",
     "text": [
      "[1 2 3 4]\n",
      "<class 'numpy.ndarray'>\n"
     ]
    }
   ],
   "source": [
    "n1 = np.array([1,2,3,4])\n",
    "print(n1)\n",
    "print(type(n1))"
   ]
  },
  {
   "cell_type": "code",
   "execution_count": 5,
   "metadata": {},
   "outputs": [
    {
     "data": {
      "text/plain": [
       "47"
      ]
     },
     "execution_count": 5,
     "metadata": {},
     "output_type": "execute_result"
    }
   ],
   "source": [
    "x = []\n",
    "len(dir(x))"
   ]
  },
  {
   "cell_type": "code",
   "execution_count": 6,
   "metadata": {},
   "outputs": [
    {
     "data": {
      "text/plain": [
       "165"
      ]
     },
     "execution_count": 6,
     "metadata": {},
     "output_type": "execute_result"
    }
   ],
   "source": [
    "len(dir(n1))"
   ]
  },
  {
   "cell_type": "code",
   "execution_count": 7,
   "metadata": {},
   "outputs": [
    {
     "data": {
      "text/plain": [
       "(4,)"
      ]
     },
     "execution_count": 7,
     "metadata": {},
     "output_type": "execute_result"
    }
   ],
   "source": [
    "n1.shape"
   ]
  },
  {
   "cell_type": "code",
   "execution_count": 8,
   "metadata": {},
   "outputs": [
    {
     "name": "stdout",
     "output_type": "stream",
     "text": [
      "[[1 2 3]\n",
      " [2 3 5]]\n",
      "(2, 3)\n"
     ]
    }
   ],
   "source": [
    "n2 = np.array([[1,2,3],[2,3,5]])\n",
    "print(n2)\n",
    "print(n2.shape)"
   ]
  },
  {
   "cell_type": "markdown",
   "metadata": {},
   "source": [
    "Creating matrix\n",
    "- arange\n",
    "- linspace\n",
    "- random.rand\n",
    "- random.randn\n",
    "- random.randint\n",
    "- eye\n",
    "- ones \n",
    "- zeros"
   ]
  },
  {
   "cell_type": "code",
   "execution_count": 9,
   "metadata": {},
   "outputs": [
    {
     "data": {
      "text/plain": [
       "(100,)"
      ]
     },
     "execution_count": 9,
     "metadata": {},
     "output_type": "execute_result"
    }
   ],
   "source": [
    "x = np.arange(-10,10,.2)\n",
    "x.shape"
   ]
  },
  {
   "cell_type": "code",
   "execution_count": 10,
   "metadata": {},
   "outputs": [
    {
     "name": "stdout",
     "output_type": "stream",
     "text": [
      "[1.         1.44444444 1.88888889 2.33333333 2.77777778 3.22222222\n",
      " 3.66666667 4.11111111 4.55555556 5.        ]\n"
     ]
    }
   ],
   "source": [
    "y = np.linspace(1,5,10)\n",
    "print(y)"
   ]
  },
  {
   "cell_type": "code",
   "execution_count": 11,
   "metadata": {},
   "outputs": [
    {
     "data": {
      "text/plain": [
       "array([[0.59531856, 0.67775948, 0.39518831],\n",
       "       [0.10846541, 0.00742319, 0.78773264],\n",
       "       [0.76432539, 0.92036433, 0.75306185]])"
      ]
     },
     "execution_count": 11,
     "metadata": {},
     "output_type": "execute_result"
    }
   ],
   "source": [
    "np.random.rand(3,3)"
   ]
  },
  {
   "cell_type": "code",
   "execution_count": 12,
   "metadata": {},
   "outputs": [
    {
     "data": {
      "text/plain": [
       "array([ 0.45436761,  1.26531166, -0.39503484,  0.97672989,  0.15461178,\n",
       "        1.23864745,  1.96361017, -1.58817246,  1.24901171,  0.19887484])"
      ]
     },
     "execution_count": 12,
     "metadata": {},
     "output_type": "execute_result"
    }
   ],
   "source": [
    "np.random.randn(10)"
   ]
  },
  {
   "cell_type": "code",
   "execution_count": 13,
   "metadata": {},
   "outputs": [
    {
     "data": {
      "text/plain": [
       "array([[2, 4, 1, 3, 4],\n",
       "       [1, 3, 1, 2, 2],\n",
       "       [2, 2, 4, 4, 4],\n",
       "       [4, 2, 2, 4, 2],\n",
       "       [1, 3, 3, 1, 3]])"
      ]
     },
     "execution_count": 13,
     "metadata": {},
     "output_type": "execute_result"
    }
   ],
   "source": [
    "np.random.randint(1,5,(5,5))"
   ]
  },
  {
   "cell_type": "code",
   "execution_count": 14,
   "metadata": {},
   "outputs": [
    {
     "name": "stdout",
     "output_type": "stream",
     "text": [
      "[[7 1]\n",
      " [8 9]\n",
      " [3 2]]\n",
      "[[1 8]\n",
      " [6 3]\n",
      " [4 1]]\n"
     ]
    }
   ],
   "source": [
    "x = np.random.randint(1,10,(3,2))\n",
    "y = np.random.randint(1,10,(3,2))\n",
    "print(x)\n",
    "print(y)"
   ]
  },
  {
   "cell_type": "code",
   "execution_count": 15,
   "metadata": {},
   "outputs": [
    {
     "data": {
      "text/plain": [
       "array([[12,  6],\n",
       "       [13, 14],\n",
       "       [ 8,  7]])"
      ]
     },
     "execution_count": 15,
     "metadata": {},
     "output_type": "execute_result"
    }
   ],
   "source": [
    "x + 5"
   ]
  },
  {
   "cell_type": "code",
   "execution_count": 16,
   "metadata": {},
   "outputs": [
    {
     "data": {
      "text/plain": [
       "array([[ 8,  9],\n",
       "       [14, 12],\n",
       "       [ 7,  3]])"
      ]
     },
     "execution_count": 16,
     "metadata": {},
     "output_type": "execute_result"
    }
   ],
   "source": [
    "x + y"
   ]
  },
  {
   "cell_type": "code",
   "execution_count": 17,
   "metadata": {},
   "outputs": [
    {
     "data": {
      "text/plain": [
       "array([[ 7,  8],\n",
       "       [48, 27],\n",
       "       [12,  2]])"
      ]
     },
     "execution_count": 17,
     "metadata": {},
     "output_type": "execute_result"
    }
   ],
   "source": [
    "x * y"
   ]
  },
  {
   "cell_type": "code",
   "execution_count": 18,
   "metadata": {},
   "outputs": [
    {
     "data": {
      "text/plain": [
       "array([[15, 45, 29],\n",
       "       [80, 75, 41],\n",
       "       [19, 24, 14]])"
      ]
     },
     "execution_count": 18,
     "metadata": {},
     "output_type": "execute_result"
    }
   ],
   "source": [
    "x.dot(y.T)"
   ]
  },
  {
   "cell_type": "code",
   "execution_count": 19,
   "metadata": {},
   "outputs": [
    {
     "data": {
      "text/plain": [
       "array([[0.6569866 , 0.84147098],\n",
       "       [0.98935825, 0.41211849],\n",
       "       [0.14112001, 0.90929743]])"
      ]
     },
     "execution_count": 19,
     "metadata": {},
     "output_type": "execute_result"
    }
   ],
   "source": [
    "np.sin(x)"
   ]
  },
  {
   "cell_type": "code",
   "execution_count": 20,
   "metadata": {},
   "outputs": [
    {
     "name": "stdout",
     "output_type": "stream",
     "text": [
      "30\n",
      "5.0\n",
      "3.1091263510296048\n"
     ]
    }
   ],
   "source": [
    "print(x.sum())\n",
    "print(x.mean())\n",
    "print(x.std())\n"
   ]
  },
  {
   "cell_type": "code",
   "execution_count": 42,
   "metadata": {},
   "outputs": [
    {
     "name": "stdout",
     "output_type": "stream",
     "text": [
      "[0.         0.10204082 0.20408163 0.30612245 0.40816327 0.51020408\n",
      " 0.6122449  0.71428571 0.81632653 0.91836735 1.02040816 1.12244898\n",
      " 1.2244898  1.32653061 1.42857143 1.53061224 1.63265306 1.73469388\n",
      " 1.83673469 1.93877551 2.04081633 2.14285714 2.24489796 2.34693878\n",
      " 2.44897959 2.55102041 2.65306122 2.75510204 2.85714286 2.95918367\n",
      " 3.06122449 3.16326531 3.26530612 3.36734694 3.46938776 3.57142857\n",
      " 3.67346939 3.7755102  3.87755102 3.97959184 4.08163265 4.18367347\n",
      " 4.28571429 4.3877551  4.48979592 4.59183673 4.69387755 4.79591837\n",
      " 4.89795918 5.        ]\n",
      "(50,)\n",
      "[[0.         0.10204082 0.20408163 0.30612245 0.40816327]\n",
      " [0.51020408 0.6122449  0.71428571 0.81632653 0.91836735]\n",
      " [1.02040816 1.12244898 1.2244898  1.32653061 1.42857143]\n",
      " [1.53061224 1.63265306 1.73469388 1.83673469 1.93877551]\n",
      " [2.04081633 2.14285714 2.24489796 2.34693878 2.44897959]\n",
      " [2.55102041 2.65306122 2.75510204 2.85714286 2.95918367]\n",
      " [3.06122449 3.16326531 3.26530612 3.36734694 3.46938776]\n",
      " [3.57142857 3.67346939 3.7755102  3.87755102 3.97959184]\n",
      " [4.08163265 4.18367347 4.28571429 4.3877551  4.48979592]\n",
      " [4.59183673 4.69387755 4.79591837 4.89795918 5.        ]]\n",
      "(10, 5)\n"
     ]
    }
   ],
   "source": [
    "a = np.linspace(0,5,50)\n",
    "print(a)\n",
    "print(a.shape)\n",
    "a2 = a.reshape(10,5)\n",
    "print(a2)\n",
    "print(a2.shape)"
   ]
  },
  {
   "cell_type": "code",
   "execution_count": 43,
   "metadata": {},
   "outputs": [
    {
     "data": {
      "text/plain": [
       "array([0.        , 0.10204082, 0.20408163, 0.30612245, 0.40816327,\n",
       "       0.51020408, 0.6122449 , 0.71428571, 0.81632653, 0.91836735,\n",
       "       1.02040816, 1.12244898, 1.2244898 , 1.32653061, 1.42857143,\n",
       "       1.53061224, 1.63265306, 1.73469388, 1.83673469, 1.93877551,\n",
       "       2.04081633, 2.14285714, 2.24489796, 2.34693878, 2.44897959,\n",
       "       2.55102041, 2.65306122, 2.75510204, 2.85714286, 2.95918367,\n",
       "       3.06122449, 3.16326531, 3.26530612, 3.36734694, 3.46938776,\n",
       "       3.57142857, 3.67346939, 3.7755102 , 3.87755102, 3.97959184,\n",
       "       4.08163265, 4.18367347, 4.28571429, 4.3877551 , 4.48979592,\n",
       "       4.59183673, 4.69387755, 4.79591837, 4.89795918, 5.        ])"
      ]
     },
     "execution_count": 43,
     "metadata": {},
     "output_type": "execute_result"
    }
   ],
   "source": [
    "a2.reshape(50)"
   ]
  },
  {
   "cell_type": "code",
   "execution_count": 44,
   "metadata": {},
   "outputs": [
    {
     "name": "stdout",
     "output_type": "stream",
     "text": [
      "[[7 3 8 8 2 2 6 5 3 7]\n",
      " [1 4 6 9 8 4 2 8 3 5]\n",
      " [1 9 8 5 7 1 7 1 7 5]\n",
      " [6 5 2 7 7 2 5 8 9 4]\n",
      " [4 9 6 4 4 8 9 7 8 9]\n",
      " [5 3 9 4 8 8 1 1 1 3]\n",
      " [9 6 6 7 3 5 9 2 1 8]\n",
      " [3 7 9 3 1 3 8 1 1 9]\n",
      " [6 6 9 6 5 9 4 6 2 8]\n",
      " [9 6 8 7 1 8 9 8 5 4]]\n"
     ]
    }
   ],
   "source": [
    "m = np.random.randint(1,10,(10,10))\n",
    "print(m)"
   ]
  },
  {
   "cell_type": "code",
   "execution_count": 45,
   "metadata": {},
   "outputs": [
    {
     "name": "stdout",
     "output_type": "stream",
     "text": [
      "7\n",
      "7\n",
      "9\n",
      "4\n",
      "1\n",
      "7\n"
     ]
    }
   ],
   "source": [
    "print(m[0,0])\n",
    "print(m[0,-1])\n",
    "print(m[-1,0])\n",
    "print(m[-1,-1])\n",
    "print(m[2,5])\n",
    "print(m[3,3])"
   ]
  },
  {
   "cell_type": "code",
   "execution_count": 49,
   "metadata": {},
   "outputs": [
    {
     "name": "stdout",
     "output_type": "stream",
     "text": [
      "[7 3 8 8 2 2 6 5 3 7]\n",
      "[1 4 6 9 8 4 2 8 3 5]\n",
      "[9 6 8 7 1 8 9 8 5 4]\n",
      "[[7 3 8 8 2 2 6 5 3 7]\n",
      " [1 4 6 9 8 4 2 8 3 5]\n",
      " [1 9 8 5 7 1 7 1 7 5]]\n",
      "[[3 7 9 3 1 3 8 1 1 9]\n",
      " [6 6 9 6 5 9 4 6 2 8]\n",
      " [9 6 8 7 1 8 9 8 5 4]]\n"
     ]
    }
   ],
   "source": [
    "print(m[0])\n",
    "print(m[1])\n",
    "print(m[-1])\n",
    "print(m[:3])\n",
    "print(m[-3:])"
   ]
  },
  {
   "cell_type": "code",
   "execution_count": 53,
   "metadata": {},
   "outputs": [
    {
     "name": "stdout",
     "output_type": "stream",
     "text": [
      "[7 1 1 6 4 5 9 3 6 9]\n",
      "[7 5 5 4 9 3 8 9 8 4]\n",
      "[[7 3 8]\n",
      " [1 4 6]\n",
      " [1 9 8]\n",
      " [6 5 2]\n",
      " [4 9 6]\n",
      " [5 3 9]\n",
      " [9 6 6]\n",
      " [3 7 9]\n",
      " [6 6 9]\n",
      " [9 6 8]]\n",
      "[[5 3 7]\n",
      " [8 3 5]\n",
      " [1 7 5]\n",
      " [8 9 4]\n",
      " [7 8 9]\n",
      " [1 1 3]\n",
      " [2 1 8]\n",
      " [1 1 9]\n",
      " [6 2 8]\n",
      " [8 5 4]]\n"
     ]
    }
   ],
   "source": [
    "print(m[:,0])                     # first column\n",
    "print(m[:,-1])                    # last column\n",
    "print(m[:,:3])                    # first 3 column\n",
    "print(m[:,-3:])                   # last 3 column"
   ]
  },
  {
   "cell_type": "code",
   "execution_count": 54,
   "metadata": {},
   "outputs": [
    {
     "name": "stdout",
     "output_type": "stream",
     "text": [
      "[[7 8 8 2]\n",
      " [1 6 9 4]\n",
      " [1 8 5 1]\n",
      " [6 2 7 2]\n",
      " [4 6 4 8]\n",
      " [5 9 4 8]\n",
      " [9 6 7 5]\n",
      " [3 9 3 3]\n",
      " [6 9 6 9]\n",
      " [9 8 7 8]]\n"
     ]
    }
   ],
   "source": [
    "print(m[:,[0,2,3,5]])"
   ]
  },
  {
   "cell_type": "markdown",
   "metadata": {},
   "source": [
    "filtering"
   ]
  },
  {
   "cell_type": "code",
   "execution_count": 55,
   "metadata": {},
   "outputs": [
    {
     "data": {
      "text/plain": [
       "array([[False,  True, False, False,  True,  True, False, False,  True,\n",
       "        False],\n",
       "       [ True,  True, False, False, False,  True,  True, False,  True,\n",
       "        False],\n",
       "       [ True, False, False, False, False,  True, False,  True, False,\n",
       "        False],\n",
       "       [False, False,  True, False, False,  True, False, False, False,\n",
       "         True],\n",
       "       [ True, False, False,  True,  True, False, False, False, False,\n",
       "        False],\n",
       "       [False,  True, False,  True, False, False,  True,  True,  True,\n",
       "         True],\n",
       "       [False, False, False, False,  True, False, False,  True,  True,\n",
       "        False],\n",
       "       [ True, False, False,  True,  True,  True, False,  True,  True,\n",
       "        False],\n",
       "       [False, False, False, False, False, False,  True, False,  True,\n",
       "        False],\n",
       "       [False, False, False, False,  True, False, False, False, False,\n",
       "         True]])"
      ]
     },
     "execution_count": 55,
     "metadata": {},
     "output_type": "execute_result"
    }
   ],
   "source": [
    "m<5   # boolean filter"
   ]
  },
  {
   "cell_type": "code",
   "execution_count": 56,
   "metadata": {},
   "outputs": [
    {
     "data": {
      "text/plain": [
       "array([3, 2, 2, 3, 1, 4, 4, 2, 3, 1, 1, 1, 2, 2, 4, 4, 4, 4, 3, 4, 1, 1,\n",
       "       1, 3, 3, 2, 1, 3, 3, 1, 3, 1, 1, 4, 2, 1, 4])"
      ]
     },
     "execution_count": 56,
     "metadata": {},
     "output_type": "execute_result"
    }
   ],
   "source": [
    "m[m<5]"
   ]
  },
  {
   "cell_type": "code",
   "execution_count": 57,
   "metadata": {},
   "outputs": [
    {
     "data": {
      "text/plain": [
       "array([7, 8, 8, 6, 5, 7, 4, 6, 9, 8, 4, 8, 5, 9, 8, 5, 7, 7, 7, 5, 6, 5,\n",
       "       7, 7, 5, 8, 9, 4, 4, 9, 6, 4, 4, 8, 9, 7, 8, 9, 5, 9, 4, 8, 8, 9,\n",
       "       6, 6, 7, 5, 9, 8, 7, 9, 8, 9, 6, 6, 9, 6, 5, 9, 4, 6, 8, 9, 6, 8,\n",
       "       7, 8, 9, 8, 5, 4])"
      ]
     },
     "execution_count": 57,
     "metadata": {},
     "output_type": "execute_result"
    }
   ],
   "source": [
    "m[m>3]"
   ]
  },
  {
   "cell_type": "code",
   "execution_count": 59,
   "metadata": {},
   "outputs": [
    {
     "data": {
      "text/plain": [
       "array([3, 6, 5, 3, 4, 6, 4, 3, 5, 5, 5, 6, 5, 5, 4, 4, 6, 4, 4, 5, 3, 4,\n",
       "       3, 6, 6, 3, 5, 3, 3, 3, 6, 6, 6, 5, 4, 6, 6, 5, 4])"
      ]
     },
     "execution_count": 59,
     "metadata": {},
     "output_type": "execute_result"
    }
   ],
   "source": [
    "m[(m >= 3) & (m <= 6)]"
   ]
  },
  {
   "cell_type": "code",
   "execution_count": null,
   "metadata": {},
   "outputs": [],
   "source": []
  }
 ],
 "metadata": {
  "kernelspec": {
   "display_name": "base",
   "language": "python",
   "name": "python3"
  },
  "language_info": {
   "codemirror_mode": {
    "name": "ipython",
    "version": 3
   },
   "file_extension": ".py",
   "mimetype": "text/x-python",
   "name": "python",
   "nbconvert_exporter": "python",
   "pygments_lexer": "ipython3",
   "version": "3.10.10"
  },
  "orig_nbformat": 4
 },
 "nbformat": 4,
 "nbformat_minor": 2
}
