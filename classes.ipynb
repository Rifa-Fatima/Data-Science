{
 "cells": [
  {
   "cell_type": "code",
   "execution_count": 9,
   "metadata": {},
   "outputs": [],
   "source": [
    "class Cat:\n",
    "    def __init__(self):\n",
    "        print(\"The class constructor\")"
   ]
  },
  {
   "cell_type": "code",
   "execution_count": 16,
   "metadata": {},
   "outputs": [
    {
     "name": "stdout",
     "output_type": "stream",
     "text": [
      "The class constructor\n",
      "<class '__main__.Cat'>\n"
     ]
    }
   ],
   "source": [
    "c1 = Cat()\n",
    "print(type(c1))"
   ]
  },
  {
   "cell_type": "code",
   "execution_count": 25,
   "metadata": {},
   "outputs": [],
   "source": [
    "class Student:\n",
    "    def __init__(self,name,klass,rollno,stream='bio'):\n",
    "        self.name = name\n",
    "        self.klass = klass\n",
    "        self.rollno = rollno\n",
    "        self.stream = stream\n",
    "        self.marks = {}      #property of the class\n",
    "    \n",
    "    def think(self,object):\n",
    "        print(f'{self.name} thinking about {object}')\n",
    "    \n",
    "    def setMarks(self, subject,value):\n",
    "        self.marks[subject] = value\n",
    "\n"
   ]
  },
  {
   "cell_type": "code",
   "execution_count": 26,
   "metadata": {},
   "outputs": [],
   "source": [
    "aditi = Student('Aditi',12,'22','CSE')\n",
    "anmol = Student('Anmol',11,'23')\n",
    "anmol.setMarks('Hindi',90)\n",
    "anmol.setMarks('English',95)\n",
    "anmol.setMarks('Math',55)\n",
    "aditi.setMarks('Hindi',90)\n",
    "aditi.setMarks('English',85)\n",
    "aditi.setMarks('Math',75)\n",
    "aditi.setMarks('Science',95)"
   ]
  },
  {
   "cell_type": "code",
   "execution_count": 27,
   "metadata": {},
   "outputs": [
    {
     "name": "stdout",
     "output_type": "stream",
     "text": [
      "{'Hindi': 90, 'English': 85, 'Math': 75, 'Science': 95}\n",
      "{'Hindi': 90, 'English': 95, 'Math': 55}\n"
     ]
    }
   ],
   "source": [
    "print(aditi.marks)\n",
    "print(anmol.marks)"
   ]
  },
  {
   "cell_type": "code",
   "execution_count": 28,
   "metadata": {},
   "outputs": [
    {
     "name": "stdout",
     "output_type": "stream",
     "text": [
      "Aditi thinking about kissi ke bare me nhi\n"
     ]
    }
   ],
   "source": [
    "aditi.think('kissi ke bare me nhi')"
   ]
  },
  {
   "cell_type": "markdown",
   "metadata": {},
   "source": [
    "## Inheritance"
   ]
  },
  {
   "cell_type": "code",
   "execution_count": 38,
   "metadata": {},
   "outputs": [],
   "source": [
    "class SuperList(list):\n",
    "    def all_index(self,search):\n",
    "        idxs = []\n",
    "        start_idx = 0\n",
    "        for i in range(self.count(search)):\n",
    "            pos = self.index(search,start_idx)\n",
    "            idxs.append(pos)\n",
    "            start_idx = pos + 1\n",
    "        return idxs"
   ]
  },
  {
   "cell_type": "code",
   "execution_count": 41,
   "metadata": {},
   "outputs": [
    {
     "name": "stdout",
     "output_type": "stream",
     "text": [
      "[1, 2, 3, 4, 5, 6, 2, 5, 4, 5, 5]\n",
      "[1, 2, 3, 4, 5, 6, 2, 5, 4, 5, 5, 20]\n"
     ]
    }
   ],
   "source": [
    "x = SuperList([1,2,3,4,5,6,2,5,4,5,5])\n",
    "print(x)\n",
    "x.append(20)\n",
    "print(x)"
   ]
  },
  {
   "cell_type": "code",
   "execution_count": 42,
   "metadata": {},
   "outputs": [
    {
     "data": {
      "text/plain": [
       "[4, 7, 9, 10]"
      ]
     },
     "execution_count": 42,
     "metadata": {},
     "output_type": "execute_result"
    }
   ],
   "source": [
    "x.all_index(5)"
   ]
  },
  {
   "cell_type": "code",
   "execution_count": null,
   "metadata": {},
   "outputs": [],
   "source": []
  }
 ],
 "metadata": {
  "kernelspec": {
   "display_name": "base",
   "language": "python",
   "name": "python3"
  },
  "language_info": {
   "codemirror_mode": {
    "name": "ipython",
    "version": 3
   },
   "file_extension": ".py",
   "mimetype": "text/x-python",
   "name": "python",
   "nbconvert_exporter": "python",
   "pygments_lexer": "ipython3",
   "version": "3.10.10"
  },
  "orig_nbformat": 4
 },
 "nbformat": 4,
 "nbformat_minor": 2
}
