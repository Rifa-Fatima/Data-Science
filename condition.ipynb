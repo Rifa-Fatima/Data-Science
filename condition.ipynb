{
 "cells": [
  {
   "cell_type": "markdown",
   "metadata": {},
   "source": [
    "## Conditons\n",
    "- if\n",
    "- if else\n",
    "- if elif else\n",
    "- match case"
   ]
  },
  {
   "cell_type": "code",
   "execution_count": 1,
   "metadata": {},
   "outputs": [],
   "source": [
    "x = 10\n",
    "y = 3"
   ]
  },
  {
   "cell_type": "code",
   "execution_count": 5,
   "metadata": {},
   "outputs": [
    {
     "name": "stdout",
     "output_type": "stream",
     "text": [
      "x ix greater than y\n",
      "That is true\n",
      "This is always printed\n"
     ]
    }
   ],
   "source": [
    "if (x > y):\n",
    "    print(\"x ix greater than y\")\n",
    "    print(\"That is true\")\n",
    "print(\"This is always printed\")"
   ]
  },
  {
   "cell_type": "code",
   "execution_count": 6,
   "metadata": {},
   "outputs": [
    {
     "name": "stdout",
     "output_type": "stream",
     "text": [
      "x is greater than y and x is greater than 8\n"
     ]
    }
   ],
   "source": [
    "if x > y and x > 8:\n",
    "    print(\"x is greater than y and x is greater than 8\")"
   ]
  },
  {
   "cell_type": "markdown",
   "metadata": {},
   "source": [
    "## True values \n",
    "- True\n",
    "- non-zero numbers\n",
    "- non-empty strings\n",
    "## False values\n",
    "- false\n",
    "- 0\n",
    "- 0.0\n",
    "- None\n",
    "- empty strings"
   ]
  },
  {
   "cell_type": "code",
   "execution_count": 10,
   "metadata": {},
   "outputs": [
    {
     "name": "stdout",
     "output_type": "stream",
     "text": [
      "You entered Rifa\n"
     ]
    }
   ],
   "source": [
    "# if-else condition\n",
    "name = input(\"Enter a name:\")\n",
    "if name:\n",
    "    print(f'You entered {name}')\n",
    "else:\n",
    "    print('You did not entered a name')"
   ]
  },
  {
   "cell_type": "code",
   "execution_count": 14,
   "metadata": {},
   "outputs": [
    {
     "name": "stdout",
     "output_type": "stream",
     "text": [
      "The number is even.\n"
     ]
    }
   ],
   "source": [
    "x =int(input('Enter a Number:'))\n",
    "if (x % 2 == 0):\n",
    "    print(\"The number is even.\")\n",
    "else:\n",
    "    print(\"The number is odd.\")"
   ]
  },
  {
   "cell_type": "code",
   "execution_count": 18,
   "metadata": {},
   "outputs": [
    {
     "name": "stdout",
     "output_type": "stream",
     "text": [
      "Welcome admin\n"
     ]
    }
   ],
   "source": [
    "# Nested condition\n",
    "username = input(\"Enter username\")\n",
    "password = input(\"Enter password\")\n",
    "if username == 'admin':\n",
    "    if password == '123admin':\n",
    "      print('Welcome admin')\n",
    "    else:\n",
    "       print('Invalid password')\n",
    "else:\n",
    "   print('Invalid username')"
   ]
  },
  {
   "cell_type": "code",
   "execution_count": 20,
   "metadata": {},
   "outputs": [
    {
     "name": "stdout",
     "output_type": "stream",
     "text": [
      "Monday\n"
     ]
    }
   ],
   "source": [
    "# if elif else condition\n",
    "day = input('Enter day')\n",
    "if day == 'monday':\n",
    "    print('Monday')\n",
    "elif day == 'tuesday':\n",
    "    print('tuesday')\n",
    "elif day == 'wednesday':\n",
    "    print('Wednesday')\n",
    "else:\n",
    "    print('Holiday')\n"
   ]
  },
  {
   "cell_type": "code",
   "execution_count": 21,
   "metadata": {},
   "outputs": [
    {
     "name": "stdout",
     "output_type": "stream",
     "text": [
      "Almost there\n"
     ]
    }
   ],
   "source": [
    "# Match case\n",
    "day = input('Enter day')\n",
    "match day:\n",
    "    case 'monday':\n",
    "        print('Time to work')\n",
    "    case 'tuesday':\n",
    "        print('Time to work again')\n",
    "    case 'wednesday':\n",
    "        print('Almost there')\n",
    "    case 'friday':\n",
    "        print('Weekend not really')\n",
    "    case _:\n",
    "        print('Holiday')"
   ]
  },
  {
   "cell_type": "code",
   "execution_count": 22,
   "metadata": {},
   "outputs": [
    {
     "name": "stdout",
     "output_type": "stream",
     "text": [
      "Tauras\n"
     ]
    }
   ],
   "source": [
    "x = input('What is your birth month')\n",
    "match x:\n",
    "    case 'january':\n",
    "      print('Aquarius')\n",
    "    case 'febrary':\n",
    "      print('Pisces')\n",
    "    case 'march':\n",
    "      print('Aries')\n",
    "    case 'april':\n",
    "      print('Tauras')\n",
    "    case 'may':\n",
    "      print('Gemini')\n",
    "    case 'june':\n",
    "      print('Cancer')\n",
    "    case 'july':\n",
    "      print('Leo')\n",
    "    case 'august':\n",
    "      print('Virgo')\n",
    "    case 'september':\n",
    "      print('LIbra')\n",
    "    case 'october':\n",
    "      print('Scorpio')\n",
    "    case 'november':\n",
    "      print('Sagittarius')\n",
    "    case 'december':\n",
    "      print('Capricon')\n",
    "    case _:\n",
    "      print('Wrong month entered')"
   ]
  },
  {
   "cell_type": "code",
   "execution_count": null,
   "metadata": {},
   "outputs": [],
   "source": []
  }
 ],
 "metadata": {
  "kernelspec": {
   "display_name": "base",
   "language": "python",
   "name": "python3"
  },
  "language_info": {
   "codemirror_mode": {
    "name": "ipython",
    "version": 3
   },
   "file_extension": ".py",
   "mimetype": "text/x-python",
   "name": "python",
   "nbconvert_exporter": "python",
   "pygments_lexer": "ipython3",
   "version": "3.10.10"
  },
  "orig_nbformat": 4
 },
 "nbformat": 4,
 "nbformat_minor": 2
}
