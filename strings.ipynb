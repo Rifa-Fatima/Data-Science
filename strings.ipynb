{
 "cells": [
  {
   "cell_type": "markdown",
   "metadata": {},
   "source": [
    "- Creation\n",
    "- Indexing and slicing\n",
    "- Methods"
   ]
  },
  {
   "cell_type": "code",
   "execution_count": 3,
   "metadata": {},
   "outputs": [
    {
     "name": "stdout",
     "output_type": "stream",
     "text": [
      "hahahahahahahahahaha\n",
      "100 <class 'str'>\n"
     ]
    }
   ],
   "source": [
    "s = \"hello\"\n",
    "s1 = 'world'\n",
    "msg = '''this is a message\n",
    "with multiple lines'''\n",
    "w ='ha'*10\n",
    "print(w)\n",
    "a = 100\n",
    "b = str(a)\n",
    "print(b,type(b))"
   ]
  },
  {
   "cell_type": "code",
   "execution_count": 4,
   "metadata": {},
   "outputs": [
    {
     "name": "stdout",
     "output_type": "stream",
     "text": [
      "from turtle import *\n",
      "speed('fastest')\n",
      "pensize(2)\n",
      "bgcolor('black')\n",
      "pencolor('white')\n",
      "side = 6\n",
      "for i in range(side):\n",
      "    fd(100)\n",
      "    for i in range(side):\n",
      "        fd(50)\n",
      "        lt(360/side)\n",
      "    lt(360/side)\n",
      "hideturtle()\n",
      "mainloop()\n"
     ]
    }
   ],
   "source": [
    "data = open('t4.py').read()\n",
    "print(data)"
   ]
  },
  {
   "cell_type": "code",
   "execution_count": 5,
   "metadata": {},
   "outputs": [
    {
     "name": "stdout",
     "output_type": "stream",
     "text": [
      "h\n",
      "e\n",
      "l\n",
      "l\n",
      "o\n"
     ]
    }
   ],
   "source": [
    "s = 'hello'\n",
    "print(s[0])          #first char\n",
    "print(s[1])\n",
    "print(s[2])\n",
    "print(s[3])\n",
    "print(s[4])\n",
    "print(s[-1])         #last char"
   ]
  },
  {
   "cell_type": "code",
   "execution_count": 10,
   "metadata": {},
   "outputs": [
    {
     "name": "stdout",
     "output_type": "stream",
     "text": [
      "Shake\n",
      "Will\n",
      "liam\n",
      "pear\n"
     ]
    }
   ],
   "source": [
    "name ='William Shakespeare'\n",
    "print(name[8:-6])\n",
    "print(name[:4])\n",
    "print(name[3:7])\n",
    "print(name[-5:-1])"
   ]
  },
  {
   "cell_type": "code",
   "execution_count": 11,
   "metadata": {},
   "outputs": [
    {
     "name": "stdout",
     "output_type": "stream",
     "text": [
      "Shake\n",
      "Will\n",
      "Shakespeare\n",
      "William Shakespeare\n",
      "WlimSaepae\n",
      "eraepsekahS mailliW\n"
     ]
    }
   ],
   "source": [
    "a = name[8:-6]\n",
    "print(a)\n",
    "b = name[:4]\n",
    "print(b)\n",
    "c = name[8:]\n",
    "print(c)\n",
    "d = name[:]\n",
    "print(d)\n",
    "e = name[::2]           #skip 2 places\n",
    "print(e)\n",
    "f = name[::-1]\n",
    "print(f)"
   ]
  },
  {
   "cell_type": "code",
   "execution_count": 12,
   "metadata": {},
   "outputs": [
    {
     "data": {
      "text/plain": [
       "19"
      ]
     },
     "execution_count": 12,
     "metadata": {},
     "output_type": "execute_result"
    }
   ],
   "source": [
    "len(name)"
   ]
  },
  {
   "cell_type": "markdown",
   "metadata": {},
   "source": [
    "- Methods\n",
    "    - Utility method\n",
    "        - count\n",
    "        - find\n",
    "        - replace\n",
    "        - split\n",
    "        - join\n",
    "        - strip\n",
    "    - Formatting method\n",
    "        - capitalize\n",
    "        - title\n",
    "        - upper\n",
    "        - lower \n",
    "        - swapcase\n",
    "        - casefold\n",
    "    - Validation method\n",
    "        - isalnum\n",
    "        - isalpha\n",
    "        - isdigit\n",
    "        - islower\n",
    "        - isupper\n",
    "        - istitle\n",
    "        - isspace"
   ]
  },
  {
   "cell_type": "code",
   "execution_count": 36,
   "metadata": {},
   "outputs": [
    {
     "name": "stdout",
     "output_type": "stream",
     "text": [
      "9\n",
      "2\n",
      "1\n"
     ]
    }
   ],
   "source": [
    "msg = '''this is a story about a kingdom of south india lead by the hoyasala dynasty king.'''\n",
    "\n",
    "print(msg.count('a'))\n",
    "print(msg.count('out'))\n",
    "print(msg.count('the'))"
   ]
  },
  {
   "cell_type": "code",
   "execution_count": 18,
   "metadata": {},
   "outputs": [
    {
     "name": "stdout",
     "output_type": "stream",
     "text": [
      "25\n"
     ]
    }
   ],
   "source": [
    "total_vowels = msg.count('a') + msg.count('e') + msg.count('i') + msg.count('o') + msg.count('u')\n",
    "print(total_vowels)"
   ]
  },
  {
   "cell_type": "code",
   "execution_count": 19,
   "metadata": {},
   "outputs": [
    {
     "name": "stdout",
     "output_type": "stream",
     "text": [
      "15\n"
     ]
    }
   ],
   "source": [
    "tvs = 0 \n",
    "for c in 'abcd':\n",
    "    tvs += msg.count(c)\n",
    "print(tvs)"
   ]
  },
  {
   "cell_type": "code",
   "execution_count": 20,
   "metadata": {},
   "outputs": [
    {
     "data": {
      "text/plain": [
       "36"
      ]
     },
     "execution_count": 20,
     "metadata": {},
     "output_type": "execute_result"
    }
   ],
   "source": [
    "print(msg.find('story'))\n",
    "print(msg.find('out'))\n",
    "print(msg.find('out',19))"
   ]
  },
  {
   "cell_type": "code",
   "execution_count": 21,
   "metadata": {},
   "outputs": [
    {
     "data": {
      "text/plain": [
       "'this is a story abin a kingdom of sinh india lead by the hoyasala dynasty king.'"
      ]
     },
     "execution_count": 21,
     "metadata": {},
     "output_type": "execute_result"
    }
   ],
   "source": [
    "msg.replace('out','in')"
   ]
  },
  {
   "cell_type": "code",
   "execution_count": 37,
   "metadata": {},
   "outputs": [
    {
     "name": "stdout",
     "output_type": "stream",
     "text": [
      "this is a story about a kingdom of south india lead by the hoyasala dynasty king.\n",
      "ths s  stry bt  kngdm f sth nd ld by th hysl dynsty kng.\n"
     ]
    }
   ],
   "source": [
    "msg_copy = msg\n",
    "for c in 'aeiou':\n",
    "   msg_copy = msg_copy.replace(c,'')\n",
    "print(msg)\n",
    "print(msg_copy)\n",
    "\n"
   ]
  },
  {
   "cell_type": "code",
   "execution_count": null,
   "metadata": {},
   "outputs": [],
   "source": []
  }
 ],
 "metadata": {
  "kernelspec": {
   "display_name": "base",
   "language": "python",
   "name": "python3"
  },
  "language_info": {
   "codemirror_mode": {
    "name": "ipython",
    "version": 3
   },
   "file_extension": ".py",
   "mimetype": "text/x-python",
   "name": "python",
   "nbconvert_exporter": "python",
   "pygments_lexer": "ipython3",
   "version": "3.10.10"
  },
  "orig_nbformat": 4
 },
 "nbformat": 4,
 "nbformat_minor": 2
}
