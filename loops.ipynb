{
 "cells": [
  {
   "cell_type": "markdown",
   "metadata": {},
   "source": [
    "## for loop\n"
   ]
  },
  {
   "cell_type": "code",
   "execution_count": 2,
   "metadata": {},
   "outputs": [
    {
     "name": "stdout",
     "output_type": "stream",
     "text": [
      "1  1156  25  16  4356  205209  6084  1156  "
     ]
    }
   ],
   "source": [
    "nums = [1,34,5,4,66,453,78,34]\n",
    "for i in nums:\n",
    "    print(i**2,end=\"  \")"
   ]
  },
  {
   "cell_type": "markdown",
   "metadata": {},
   "source": [
    "- enumerate\n",
    "- zip"
   ]
  },
  {
   "cell_type": "code",
   "execution_count": 6,
   "metadata": {},
   "outputs": [
    {
     "name": "stdout",
     "output_type": "stream",
     "text": [
      "1 john\n",
      "2 jane\n",
      "3 jack\n",
      "4 jill\n"
     ]
    }
   ],
   "source": [
    "names= ['John','Jane','Jack','Jill']\n",
    "for index,name in enumerate(names,start=1):\n",
    "    print(index,name)"
   ]
  },
  {
   "cell_type": "code",
   "execution_count": 7,
   "metadata": {},
   "outputs": [
    {
     "name": "stdout",
     "output_type": "stream",
     "text": [
      "5\n",
      "18\n",
      "39\n",
      "68\n",
      "105\n"
     ]
    }
   ],
   "source": [
    "x = [2,4,6,8,10]\n",
    "y = [1,3,5,7,9]\n",
    "z = [3,6,9,12,15]\n",
    "for i,j,k in zip(x,y,z):            #Zip is used to perform operation on multiple list at a time\n",
    "    print(i * j + k)"
   ]
  },
  {
   "cell_type": "code",
   "execution_count": 9,
   "metadata": {},
   "outputs": [
    {
     "name": "stdout",
     "output_type": "stream",
     "text": [
      "Interstellar        8.6⭐\n",
      "The Martin          8.0⭐\n",
      "Gravity             7.7⭐\n",
      "Apollo 13           7.6⭐\n"
     ]
    }
   ],
   "source": [
    "movies = ['Interstellar','The Martin','Gravity','Apollo 13']\n",
    "rating = [8.6,8.0,7.7,7.6]\n",
    "for name,star in zip(movies,rating):\n",
    "    print(f'{name:20}{star}⭐')"
   ]
  },
  {
   "cell_type": "code",
   "execution_count": null,
   "metadata": {},
   "outputs": [],
   "source": []
  }
 ],
 "metadata": {
  "kernelspec": {
   "display_name": "base",
   "language": "python",
   "name": "python3"
  },
  "language_info": {
   "codemirror_mode": {
    "name": "ipython",
    "version": 3
   },
   "file_extension": ".py",
   "mimetype": "text/x-python",
   "name": "python",
   "nbconvert_exporter": "python",
   "pygments_lexer": "ipython3",
   "version": "3.10.10"
  },
  "orig_nbformat": 4
 },
 "nbformat": 4,
 "nbformat_minor": 2
}
