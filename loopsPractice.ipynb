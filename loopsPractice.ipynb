{
 "cells": [
  {
   "cell_type": "markdown",
   "metadata": {},
   "source": [
    "## Question on loops"
   ]
  },
  {
   "cell_type": "markdown",
   "metadata": {},
   "source": [
    "- Write a program to print numbers from 1 to 10 using a for loop.\n"
   ]
  },
  {
   "cell_type": "code",
   "execution_count": 1,
   "metadata": {},
   "outputs": [
    {
     "name": "stdout",
     "output_type": "stream",
     "text": [
      "1 2 3 4 5 6 7 8 9 10 "
     ]
    }
   ],
   "source": [
    "for i in range(1,11):\n",
    "    print(i,end=\" \")"
   ]
  },
  {
   "cell_type": "markdown",
   "metadata": {},
   "source": [
    "- Write a program to print the multiplication table of a given number using a while loop.\n"
   ]
  },
  {
   "cell_type": "code",
   "execution_count": 7,
   "metadata": {},
   "outputs": [
    {
     "name": "stdout",
     "output_type": "stream",
     "text": [
      " 2 X  1 =  2\n",
      " 2 X  2 =  4\n",
      " 2 X  3 =  6\n",
      " 2 X  4 =  8\n",
      " 2 X  5 = 10\n",
      " 2 X  6 = 12\n",
      " 2 X  7 = 14\n",
      " 2 X  8 = 16\n",
      " 2 X  9 = 18\n",
      " 2 X 10 = 20\n"
     ]
    }
   ],
   "source": [
    "num = int(input('Enter a number:'))\n",
    "i = 1\n",
    "while i<11:\n",
    "    print(f'{num:2} X {i:2} = {num*i:2}')\n",
    "    i+=1"
   ]
  },
  {
   "cell_type": "markdown",
   "metadata": {},
   "source": [
    "- Write a program to find the sum of all even numbers between 1 and 100 using a for loop.\n"
   ]
  },
  {
   "cell_type": "code",
   "execution_count": 10,
   "metadata": {},
   "outputs": [
    {
     "name": "stdout",
     "output_type": "stream",
     "text": [
      "2550\n"
     ]
    }
   ],
   "source": [
    "even_sum = 0\n",
    "for i in range(1,101):\n",
    "    if (i%2 == 0):\n",
    "        even_sum += i \n",
    "print(even_sum)"
   ]
  },
  {
   "cell_type": "markdown",
   "metadata": {},
   "source": [
    "- Write a program to check if a given number is prime or not using a while loop.\n"
   ]
  },
  {
   "cell_type": "code",
   "execution_count": 17,
   "metadata": {},
   "outputs": [
    {
     "name": "stdout",
     "output_type": "stream",
     "text": [
      "7 is a prime number.\n"
     ]
    }
   ],
   "source": [
    "num = int(input('Enter a number:'))\n",
    "i = 1\n",
    "count = 0\n",
    "while i <= num:\n",
    "    if (num%i==0):\n",
    "        count+=1\n",
    "    i+=1\n",
    "\n",
    "if count==2:\n",
    "    print(f'{num} is a prime number.')\n",
    "else:\n",
    "    print(f'{num} is not a prime number.')\n"
   ]
  },
  {
   "cell_type": "markdown",
   "metadata": {},
   "source": [
    "- Write a program to calculate the factorial of a number using a for loop.\n"
   ]
  },
  {
   "cell_type": "code",
   "execution_count": 21,
   "metadata": {},
   "outputs": [
    {
     "name": "stdout",
     "output_type": "stream",
     "text": [
      "The factorial of 5 is 120.\n"
     ]
    }
   ],
   "source": [
    "num1 =1\n",
    "num = int(input('Enter a number:'))\n",
    "for i in range(1,num+1):\n",
    "    num1 = i * num1\n",
    "print(f'The factorial of {num} is {num1}.')"
   ]
  },
  {
   "cell_type": "markdown",
   "metadata": {},
   "source": [
    "- Write a program to print the Fibonacci series up to a given limit using a while loop.\n"
   ]
  },
  {
   "cell_type": "code",
   "execution_count": 46,
   "metadata": {},
   "outputs": [
    {
     "name": "stdout",
     "output_type": "stream",
     "text": [
      "Fibonacci series upto 5 is:\n",
      "0 1 1 2 3 "
     ]
    }
   ],
   "source": [
    "num = int(input('Enter a number:'))\n",
    "i = 0\n",
    "n1 = 0\n",
    "n2 = 1\n",
    "if num<=0:\n",
    "    print(\"Enter a positive integer\")\n",
    "elif num == 1:\n",
    "    print(f\"Fibonacci series upto {num} is: {n1} \")\n",
    "else:\n",
    "    print(f\"Fibonacci series upto {num} is:\")\n",
    "    while i<num:\n",
    "        print(n1,end =\" \")\n",
    "        nth = n1 + n2  \n",
    "        n1 = n2\n",
    "        n2 = nth\n",
    "        i+=1\n",
    " \n"
   ]
  },
  {
   "cell_type": "markdown",
   "metadata": {},
   "source": [
    "- Write a program to find the largest element in an array using a for loop.\n"
   ]
  },
  {
   "cell_type": "code",
   "execution_count": 48,
   "metadata": {},
   "outputs": [
    {
     "name": "stdout",
     "output_type": "stream",
     "text": [
      "The maximum element is 678\n"
     ]
    }
   ],
   "source": [
    "array = [1,2,34,5,678,78,43]\n",
    "max = 0\n",
    "for i in array:\n",
    "    if i >= max:\n",
    "        max = i\n",
    "print(f\"The maximum element is {max}\") "
   ]
  },
  {
   "cell_type": "markdown",
   "metadata": {},
   "source": [
    "- Write a program to reverse a given string using a while loop.\n"
   ]
  },
  {
   "cell_type": "code",
   "execution_count": 4,
   "metadata": {},
   "outputs": [
    {
     "name": "stdout",
     "output_type": "stream",
     "text": [
      "Python is good\n",
      "doog si nohtyP\n"
     ]
    }
   ],
   "source": [
    "str =input(\"Enter a string:\")\n",
    "print(str)\n",
    "i=0\n",
    "str1 =\"\"\n",
    "while i < len(str):\n",
    "    str1 = str[i]+str1\n",
    "    i+=1\n",
    "print(str1)"
   ]
  },
  {
   "cell_type": "markdown",
   "metadata": {},
   "source": [
    "- Write a program to print the ASCII values of all uppercase letters using a for loop.\n"
   ]
  },
  {
   "cell_type": "code",
   "execution_count": 7,
   "metadata": {},
   "outputs": [
    {
     "name": "stdout",
     "output_type": "stream",
     "text": [
      "Python Is Good\n",
      "The ASCII value of P is 80\n",
      "The ASCII value of I is 73\n",
      "The ASCII value of G is 71\n"
     ]
    }
   ],
   "source": [
    "string =input(\"Enter a string\")\n",
    "print(string)\n",
    "string1 = string.replace(\" \",\"\")\n",
    "for i in string1:\n",
    "    if i in string.upper():\n",
    "        print(f'The ASCII value of {i} is {ord(i)}')"
   ]
  },
  {
   "cell_type": "markdown",
   "metadata": {},
   "source": [
    "- Write a program to check if a given string is a palindrome using a while loop.\n"
   ]
  },
  {
   "cell_type": "code",
   "execution_count": 8,
   "metadata": {},
   "outputs": [
    {
     "name": "stdout",
     "output_type": "stream",
     "text": [
      "abba\n",
      "abba is a Palindrome.\n"
     ]
    }
   ],
   "source": [
    "string = input(\"Enter a string:\")\n",
    "print(string)\n",
    "string1 =\"\"\n",
    "i = 0\n",
    "while i<len(string):\n",
    "    string1 = string[i]+string1\n",
    "    i+=1\n",
    "if string==string1:\n",
    "    print(f'{string} is a Palindrome.')\n",
    "else:\n",
    "    print(f'{string} is not a Palindrome.')\n"
   ]
  },
  {
   "cell_type": "markdown",
   "metadata": {},
   "source": [
    "- Write a program to calculate the average of a list of numbers using a for loop.\n"
   ]
  },
  {
   "cell_type": "code",
   "execution_count": 15,
   "metadata": {},
   "outputs": [
    {
     "name": "stdout",
     "output_type": "stream",
     "text": [
      "The average of a list of numbers is 24.166666666666668\n"
     ]
    }
   ],
   "source": [
    "list = [23,2,5,77,32,6]\n",
    "num1=0\n",
    "for num in list:\n",
    "    num1 += num\n",
    "length = len(list)\n",
    "avg = num1/length\n",
    "print(f'The average of a list of numbers is {avg}')"
   ]
  },
  {
   "cell_type": "markdown",
   "metadata": {},
   "source": [
    "- Write a program to find the smallest element in an array using a while loop.\n"
   ]
  },
  {
   "cell_type": "code",
   "execution_count": 13,
   "metadata": {},
   "outputs": [
    {
     "name": "stdout",
     "output_type": "stream",
     "text": [
      "The minimum number in list is 2\n"
     ]
    }
   ],
   "source": [
    "list = [23,2,5,77,32,6]\n",
    "i = 0\n",
    "min = list[0]\n",
    "while i<len(list):\n",
    "    if list[i]<=min :\n",
    "        min=list[i]\n",
    "    i+=1\n",
    "print(f'The minimum number in list is {min}')"
   ]
  },
  {
   "cell_type": "markdown",
   "metadata": {},
   "source": [
    "- Write a program to calculate the sum of digits of a number using a for loop.\n"
   ]
  },
  {
   "cell_type": "code",
   "execution_count": 20,
   "metadata": {},
   "outputs": [
    {
     "name": "stdout",
     "output_type": "stream",
     "text": [
      "The sum of digits of 123 is 6\n"
     ]
    }
   ],
   "source": [
    "num = (input(\"Enter a number:\"))\n",
    "sum = 0\n",
    "for i in range(len(num)):\n",
    "    sum = int(num[i]) + sum\n",
    "print(f'The sum of digits of {num} is {sum}')\n"
   ]
  },
  {
   "cell_type": "markdown",
   "metadata": {},
   "source": [
    "- Write a program to check if a given year is a leap year using a while loop.\n"
   ]
  },
  {
   "cell_type": "code",
   "execution_count": 5,
   "metadata": {},
   "outputs": [
    {
     "name": "stdout",
     "output_type": "stream",
     "text": [
      "2004 is a leap year.\n"
     ]
    }
   ],
   "source": [
    "year = int(input('Enter a year:'))\n"
   ]
  },
  {
   "cell_type": "markdown",
   "metadata": {},
   "source": [
    "- Write a program to print the multiplication table of numbers from 1 to 5 using a for loop.\n"
   ]
  },
  {
   "cell_type": "code",
   "execution_count": 24,
   "metadata": {},
   "outputs": [
    {
     "name": "stdout",
     "output_type": "stream",
     "text": [
      "Multiplication table of 1:\n",
      "1 X 1 = 1\n",
      "1 X 2 = 2\n",
      "1 X 3 = 3\n",
      "1 X 4 = 4\n",
      "1 X 5 = 5\n",
      "1 X 6 = 6\n",
      "1 X 7 = 7\n",
      "1 X 8 = 8\n",
      "1 X 9 = 9\n",
      "1 X 10 = 10\n",
      "Multiplication table of 2:\n",
      "2 X 1 = 2\n",
      "2 X 2 = 4\n",
      "2 X 3 = 6\n",
      "2 X 4 = 8\n",
      "2 X 5 = 10\n",
      "2 X 6 = 12\n",
      "2 X 7 = 14\n",
      "2 X 8 = 16\n",
      "2 X 9 = 18\n",
      "2 X 10 = 20\n",
      "Multiplication table of 3:\n",
      "3 X 1 = 3\n",
      "3 X 2 = 6\n",
      "3 X 3 = 9\n",
      "3 X 4 = 12\n",
      "3 X 5 = 15\n",
      "3 X 6 = 18\n",
      "3 X 7 = 21\n",
      "3 X 8 = 24\n",
      "3 X 9 = 27\n",
      "3 X 10 = 30\n",
      "Multiplication table of 4:\n",
      "4 X 1 = 4\n",
      "4 X 2 = 8\n",
      "4 X 3 = 12\n",
      "4 X 4 = 16\n",
      "4 X 5 = 20\n",
      "4 X 6 = 24\n",
      "4 X 7 = 28\n",
      "4 X 8 = 32\n",
      "4 X 9 = 36\n",
      "4 X 10 = 40\n",
      "Multiplication table of 5:\n",
      "5 X 1 = 5\n",
      "5 X 2 = 10\n",
      "5 X 3 = 15\n",
      "5 X 4 = 20\n",
      "5 X 5 = 25\n",
      "5 X 6 = 30\n",
      "5 X 7 = 35\n",
      "5 X 8 = 40\n",
      "5 X 9 = 45\n",
      "5 X 10 = 50\n"
     ]
    }
   ],
   "source": [
    "for i in range(1,6):\n",
    "    print(f'Multiplication table of {i}:')\n",
    "    for j in range(1,11):\n",
    "        print(f'{i} X {j} = {i*j}')"
   ]
  },
  {
   "cell_type": "markdown",
   "metadata": {},
   "source": [
    "- Write a program to find the factorial of a number using a while loop.\n"
   ]
  },
  {
   "cell_type": "code",
   "execution_count": 26,
   "metadata": {},
   "outputs": [
    {
     "name": "stdout",
     "output_type": "stream",
     "text": [
      "The factorial of 5 is 120.\n"
     ]
    }
   ],
   "source": [
    "num = int(input(\"Enter a number:\"))\n",
    "i = 1\n",
    "f =1\n",
    "while i<=num:\n",
    "    f = i*f\n",
    "    i+=1\n",
    "print(f'The factorial of {num} is {f}.')"
   ]
  },
  {
   "cell_type": "markdown",
   "metadata": {},
   "source": [
    "- Write a program to count the number of vowels in a given string using a for loop.\n"
   ]
  },
  {
   "cell_type": "code",
   "execution_count": 33,
   "metadata": {},
   "outputs": [
    {
     "name": "stdout",
     "output_type": "stream",
     "text": [
      "The number of vowels in \"Python is great.\" is 4.\n"
     ]
    }
   ],
   "source": [
    "str = input(\"Enter a string:\")\n",
    "for vowel in 'AEIOUaeiou':\n",
    "    num += str.count(vowel)\n",
    "print(f'The number of vowels in \\\"{str}\\\" is {num}.')"
   ]
  },
  {
   "cell_type": "markdown",
   "metadata": {},
   "source": [
    "- Write a program to check if a given number is a perfect square using a while loop.\n"
   ]
  },
  {
   "cell_type": "code",
   "execution_count": 3,
   "metadata": {},
   "outputs": [
    {
     "name": "stdout",
     "output_type": "stream",
     "text": [
      "16 is the perfect square of 4\n"
     ]
    }
   ],
   "source": [
    "num = int(input(\"Enter a number:\"))\n",
    "i = 0\n",
    "while i <= num:\n",
    "    if i*i==num:\n",
    "        print(f'{num} is the perfect square of {i}')\n",
    "    i+=1\n"
   ]
  },
  {
   "cell_type": "markdown",
   "metadata": {},
   "source": [
    "- Write a program to find the largest and smallest elements in an array using a for loop.\n"
   ]
  },
  {
   "cell_type": "code",
   "execution_count": 37,
   "metadata": {},
   "outputs": [
    {
     "name": "stdout",
     "output_type": "stream",
     "text": [
      "The maximum number is 432 and the minimum number is 7\n"
     ]
    }
   ],
   "source": [
    "list = [23,45,7,32,67,432,34]\n",
    "max = list[0]\n",
    "min = list[0]\n",
    "for i in range(len(list)):\n",
    "    if list[i]>=max:\n",
    "        max = list[i]\n",
    "    elif list[i]<=min:\n",
    "        min = list[i]\n",
    "print(f'The maximum number is {max} and the minimum number is {min}')"
   ]
  },
  {
   "cell_type": "markdown",
   "metadata": {},
   "source": [
    "- Write a program to reverse the order of words in a sentence using a while loop.\n"
   ]
  },
  {
   "cell_type": "code",
   "execution_count": 1,
   "metadata": {},
   "outputs": [
    {
     "name": "stdout",
     "output_type": "stream",
     "text": [
      "ddsf \n"
     ]
    }
   ],
   "source": [
    "str = input(\"Enter a sentence:\")\n",
    "str1 = str.split()\n",
    "i = 0\n",
    "words = ''\n",
    "while i < len(str1):\n",
    "    words = str1[i]+\" \"+words\n",
    "    i+=1\n",
    "print(\"\".join(words))"
   ]
  },
  {
   "cell_type": "code",
   "execution_count": null,
   "metadata": {},
   "outputs": [],
   "source": []
  }
 ],
 "metadata": {
  "kernelspec": {
   "display_name": "base",
   "language": "python",
   "name": "python3"
  },
  "language_info": {
   "codemirror_mode": {
    "name": "ipython",
    "version": 3
   },
   "file_extension": ".py",
   "mimetype": "text/x-python",
   "name": "python",
   "nbconvert_exporter": "python",
   "pygments_lexer": "ipython3",
   "version": "3.10.10"
  },
  "orig_nbformat": 4
 },
 "nbformat": 4,
 "nbformat_minor": 2
}
