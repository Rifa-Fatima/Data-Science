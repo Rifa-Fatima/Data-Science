{
 "cells": [
  {
   "cell_type": "markdown",
   "metadata": {},
   "source": [
    "- 1.Create a string and print it.\n"
   ]
  },
  {
   "cell_type": "code",
   "execution_count": 1,
   "metadata": {},
   "outputs": [
    {
     "name": "stdout",
     "output_type": "stream",
     "text": [
      "Rifa\n",
      "<class 'str'>\n"
     ]
    }
   ],
   "source": [
    "s = 'Rifa'\n",
    "print(s)\n",
    "print(type(s))"
   ]
  },
  {
   "cell_type": "markdown",
   "metadata": {},
   "source": [
    "- 2.Take a string input and print it's length.\n"
   ]
  },
  {
   "cell_type": "code",
   "execution_count": 1,
   "metadata": {},
   "outputs": [
    {
     "name": "stdout",
     "output_type": "stream",
     "text": [
      "rifa\n",
      "4\n"
     ]
    }
   ],
   "source": [
    "s1 = input('Enter a word:')\n",
    "print(s1)\n",
    "print(len(s1))"
   ]
  },
  {
   "cell_type": "markdown",
   "metadata": {},
   "source": [
    "- 3.Print the last word of the string 'Python is great' using slices.\n"
   ]
  },
  {
   "cell_type": "code",
   "execution_count": 4,
   "metadata": {},
   "outputs": [
    {
     "name": "stdout",
     "output_type": "stream",
     "text": [
      "great\n"
     ]
    }
   ],
   "source": [
    "s3 ='Python is great'\n",
    "print(s3[-5:])"
   ]
  },
  {
   "cell_type": "markdown",
   "metadata": {},
   "source": [
    "- 4.Print the each word in different line of string 'python is everywhere'.\n"
   ]
  },
  {
   "cell_type": "code",
   "execution_count": 6,
   "metadata": {},
   "outputs": [
    {
     "name": "stdout",
     "output_type": "stream",
     "text": [
      "python\n",
      "is\n",
      "everywhere\n"
     ]
    }
   ],
   "source": [
    "s4 = 'python is everywhere'\n",
    "S4 =s4.split()\n",
    "for i in S4:\n",
    "    print(i)"
   ]
  },
  {
   "cell_type": "markdown",
   "metadata": {},
   "source": [
    "- 5.Print the string 'Hello World!' in reverse.\n"
   ]
  },
  {
   "cell_type": "code",
   "execution_count": 7,
   "metadata": {},
   "outputs": [
    {
     "name": "stdout",
     "output_type": "stream",
     "text": [
      "!dlroW olleH\n"
     ]
    }
   ],
   "source": [
    "s5 = 'Hello World!'\n",
    "print(s5[::-1])"
   ]
  },
  {
   "cell_type": "markdown",
   "metadata": {},
   "source": [
    "- 6.Convert the string 'How are you?' in uppercase.\n"
   ]
  },
  {
   "cell_type": "code",
   "execution_count": 10,
   "metadata": {},
   "outputs": [
    {
     "data": {
      "text/plain": [
       "'HOW ARE YOU?'"
      ]
     },
     "execution_count": 10,
     "metadata": {},
     "output_type": "execute_result"
    }
   ],
   "source": [
    "s6 = 'How are you?'\n",
    "s6.upper()\n"
   ]
  },
  {
   "cell_type": "markdown",
   "metadata": {},
   "source": [
    "- 7.Convert the string 'How Is It Going?' in lowercase.\n"
   ]
  },
  {
   "cell_type": "code",
   "execution_count": 11,
   "metadata": {},
   "outputs": [
    {
     "data": {
      "text/plain": [
       "'how is it going?'"
      ]
     },
     "execution_count": 11,
     "metadata": {},
     "output_type": "execute_result"
    }
   ],
   "source": [
    "s7 = 'How Is It Going?'\n",
    "s7.lower()"
   ]
  },
  {
   "cell_type": "markdown",
   "metadata": {},
   "source": [
    "- 8.Join the following list by spaces( ) and print the result.\n",
    "    - words = ['Python', 'is', 'easy', 'to', 'learn']\n"
   ]
  },
  {
   "cell_type": "code",
   "execution_count": 12,
   "metadata": {},
   "outputs": [
    {
     "data": {
      "text/plain": [
       "'Python is easy to learn'"
      ]
     },
     "execution_count": 12,
     "metadata": {},
     "output_type": "execute_result"
    }
   ],
   "source": [
    "words = ['Python', 'is', 'easy', 'to', 'learn']\n",
    "' '.join(words)"
   ]
  },
  {
   "cell_type": "markdown",
   "metadata": {},
   "source": [
    "- 9.Print a multiline string using a single print\n"
   ]
  },
  {
   "cell_type": "code",
   "execution_count": 15,
   "metadata": {},
   "outputs": [
    {
     "name": "stdout",
     "output_type": "stream",
     "text": [
      "this is a paragraph which is written just\n",
      "for the purpose of providing content to let the \n",
      "average word length be calculated\n"
     ]
    }
   ],
   "source": [
    "print('''this is a paragraph which is written just\n",
    "for the purpose of providing content to let the \n",
    "average word length be calculated''')"
   ]
  },
  {
   "cell_type": "markdown",
   "metadata": {},
   "source": [
    "- 10.Print this string 'to move to newline '\\n' is used.' (results should look exactly like the provided string)\n"
   ]
  },
  {
   "cell_type": "code",
   "execution_count": 2,
   "metadata": {},
   "outputs": [
    {
     "name": "stdout",
     "output_type": "stream",
     "text": [
      "to move to newline '\\n' is used.\n",
      "to move to newline \\n is used.\n"
     ]
    }
   ],
   "source": [
    "print('to move to newline \\'\\\\n\\' is used.')\n",
    "print(r'to move to newline \\n is used.')"
   ]
  },
  {
   "cell_type": "markdown",
   "metadata": {},
   "source": [
    "- 11.Print a variable with some text using a single print function, output should look like following.\n",
    "the variable is 15"
   ]
  },
  {
   "cell_type": "code",
   "execution_count": 17,
   "metadata": {},
   "outputs": [
    {
     "name": "stdout",
     "output_type": "stream",
     "text": [
      "The variable is 15\n"
     ]
    }
   ],
   "source": [
    "number= 15\n",
    "print(f'The variable is {number}')"
   ]
  },
  {
   "cell_type": "markdown",
   "metadata": {},
   "source": [
    "- 12.concatenate the following strings and print the result\n",
    "    - s1 = 'python '\n",
    "    - s2 = 'is '\n",
    "    - s3 = 'great.'\n"
   ]
  },
  {
   "cell_type": "code",
   "execution_count": 18,
   "metadata": {},
   "outputs": [
    {
     "name": "stdout",
     "output_type": "stream",
     "text": [
      "python is great.\n"
     ]
    }
   ],
   "source": [
    "s1 = 'python '\n",
    "s2 = 'is '\n",
    "s3 = 'great.'\n",
    "print(s1+s2+s3)\n"
   ]
  },
  {
   "cell_type": "markdown",
   "metadata": {},
   "source": [
    "- 13.Print # 20 times without using a loop\n"
   ]
  },
  {
   "cell_type": "code",
   "execution_count": 20,
   "metadata": {},
   "outputs": [
    {
     "name": "stdout",
     "output_type": "stream",
     "text": [
      "####################\n"
     ]
    }
   ],
   "source": [
    "print('#'*20)"
   ]
  },
  {
   "cell_type": "markdown",
   "metadata": {},
   "source": [
    "- 14.Print numbers from 1 to 9, each on a seperate line, followed by a dot, output should look like the following-\n",
    "1.\n",
    "2.\n",
    "3.\n"
   ]
  },
  {
   "cell_type": "code",
   "execution_count": 4,
   "metadata": {},
   "outputs": [
    {
     "name": "stdout",
     "output_type": "stream",
     "text": [
      "1.\n",
      "2.\n",
      "3.\n",
      "4.\n",
      "5.\n",
      "6.\n",
      "7.\n",
      "8.\n",
      "9.\n"
     ]
    }
   ],
   "source": [
    "for i in range(1,10):\n",
    "    print(f'{i}.')"
   ]
  },
  {
   "cell_type": "markdown",
   "metadata": {},
   "source": [
    "- 15.Ask user to input a sentence and print each word on a different line."
   ]
  },
  {
   "cell_type": "code",
   "execution_count": 29,
   "metadata": {},
   "outputs": [
    {
     "name": "stdout",
     "output_type": "stream",
     "text": [
      "Python\n",
      "is\n",
      "good\n"
     ]
    }
   ],
   "source": [
    "string = input(\"Enter a sentence:\")\n",
    "words = string.split()\n",
    "for word in words:\n",
    "    print(word)"
   ]
  },
  {
   "cell_type": "markdown",
   "metadata": {},
   "source": [
    "- 16.Ask user to input a string and check if the string ends with '?'\n"
   ]
  },
  {
   "cell_type": "code",
   "execution_count": 31,
   "metadata": {},
   "outputs": [
    {
     "data": {
      "text/plain": [
       "True"
      ]
     },
     "execution_count": 31,
     "metadata": {},
     "output_type": "execute_result"
    }
   ],
   "source": [
    "str = input(\"Enter a sentence:\")\n",
    "str.endswith('?')"
   ]
  },
  {
   "cell_type": "markdown",
   "metadata": {},
   "source": [
    "- 17.Ask user to input a string and print how many times e appeared in the string"
   ]
  },
  {
   "cell_type": "code",
   "execution_count": 32,
   "metadata": {},
   "outputs": [
    {
     "data": {
      "text/plain": [
       "4"
      ]
     },
     "execution_count": 32,
     "metadata": {},
     "output_type": "execute_result"
    }
   ],
   "source": [
    "str = input(\"Enter a string:\")\n",
    "str.count('e')"
   ]
  },
  {
   "cell_type": "markdown",
   "metadata": {},
   "source": [
    "- 18.Check if the user input is a number."
   ]
  },
  {
   "cell_type": "code",
   "execution_count": 5,
   "metadata": {},
   "outputs": [
    {
     "name": "stdout",
     "output_type": "stream",
     "text": [
      "123\n"
     ]
    },
    {
     "data": {
      "text/plain": [
       "True"
      ]
     },
     "execution_count": 5,
     "metadata": {},
     "output_type": "execute_result"
    }
   ],
   "source": [
    "i = input(\"Enter something:\")\n",
    "print(i)\n",
    "i.isnumeric()"
   ]
  },
  {
   "cell_type": "markdown",
   "metadata": {},
   "source": [
    "- 19.Remove the extra spaces in beginning and in the end of the following string-\n",
    "    - text = '   this is not a good string           '\n",
    "  "
   ]
  },
  {
   "cell_type": "code",
   "execution_count": 35,
   "metadata": {},
   "outputs": [
    {
     "data": {
      "text/plain": [
       "'this is not a good string'"
      ]
     },
     "execution_count": 35,
     "metadata": {},
     "output_type": "execute_result"
    }
   ],
   "source": [
    "text = '   this is not a good string           '\n",
    "text.strip()"
   ]
  },
  {
   "cell_type": "markdown",
   "metadata": {},
   "source": [
    "- 20.Ask user to input string, print found if any of the character is upper case.\n"
   ]
  },
  {
   "cell_type": "code",
   "execution_count": 41,
   "metadata": {},
   "outputs": [
    {
     "name": "stdout",
     "output_type": "stream",
     "text": [
      "Not found\n"
     ]
    }
   ],
   "source": [
    "str = input('Enter a string:')\n",
    "for i in str:\n",
    "    if i in str.upper():\n",
    "        print('Found')\n",
    "        break\n",
    "else:\n",
    "    print('Not found')"
   ]
  },
  {
   "cell_type": "markdown",
   "metadata": {},
   "source": [
    "- 21.Extract names from the following string and store them in a list.\n",
    "    - names = 'Joe, David, Mark, Tom, Chris, Robert'"
   ]
  },
  {
   "cell_type": "code",
   "execution_count": 6,
   "metadata": {},
   "outputs": [
    {
     "name": "stdout",
     "output_type": "stream",
     "text": [
      "['Joe', 'David', 'Mark', 'Tom', 'Chris', 'Robert']\n"
     ]
    }
   ],
   "source": [
    "names = 'Joe, David, Mark, Tom, Chris, Robert'\n",
    "print(names.split(\", \"))"
   ]
  },
  {
   "cell_type": "markdown",
   "metadata": {},
   "source": [
    "- 22.In the following string, add aye in the end of every word and print the results.\n",
    "    - text = 'this is some text'"
   ]
  },
  {
   "cell_type": "code",
   "execution_count": 48,
   "metadata": {},
   "outputs": [
    {
     "name": "stdout",
     "output_type": "stream",
     "text": [
      "thisaye isaye someaye textaye "
     ]
    }
   ],
   "source": [
    "text = 'this is some text'\n",
    "text1 = text.split()\n",
    "for i in text1:\n",
    "    word = i + \"aye\"\n",
    "    print(word,end=\" \")\n"
   ]
  },
  {
   "cell_type": "markdown",
   "metadata": {},
   "source": [
    "- 23.Ask user to enter a string and check if the string contains fyi\n"
   ]
  },
  {
   "cell_type": "code",
   "execution_count": 53,
   "metadata": {},
   "outputs": [
    {
     "data": {
      "text/plain": [
       "-1"
      ]
     },
     "execution_count": 53,
     "metadata": {},
     "output_type": "execute_result"
    }
   ],
   "source": [
    "str = input(\"Enter a string:\")\n",
    "str.find(\"fyi\")"
   ]
  },
  {
   "cell_type": "markdown",
   "metadata": {},
   "source": [
    "- 24.Remove all the special characters and numbers from the following string\n",
    "    - text = '%p34@y!*-*!t68h#&on404'\n"
   ]
  },
  {
   "cell_type": "code",
   "execution_count": 55,
   "metadata": {},
   "outputs": [
    {
     "name": "stdout",
     "output_type": "stream",
     "text": [
      "python"
     ]
    }
   ],
   "source": [
    "text = '%p34@y!*-*!t68h#&on404'\n",
    "for i in text:\n",
    "    if i.isalpha()==True:\n",
    "        print(i,end='')\n"
   ]
  },
  {
   "cell_type": "markdown",
   "metadata": {},
   "source": [
    "- 25.Calculate the average word length of the following paragraph.\n",
    "    - this is a paragraph which is written just for the purpose of providing content to let the average word length be calculated"
   ]
  },
  {
   "cell_type": "code",
   "execution_count": 57,
   "metadata": {},
   "outputs": [
    {
     "name": "stdout",
     "output_type": "stream",
     "text": [
      "4.636363636363637\n"
     ]
    }
   ],
   "source": [
    "text = \"this is a paragraph which is written just for the purpose of providing content to let the average word length be calculated\"\n",
    "text1 = text.replace(\" \",\"\")\n",
    "text2 = text.split()\n",
    "len_text1 = len(text1)\n",
    "len_text2 = len(text2)\n",
    "avg = len_text1/len_text2\n",
    "print(avg)\n"
   ]
  },
  {
   "cell_type": "markdown",
   "metadata": {},
   "source": []
  },
  {
   "cell_type": "code",
   "execution_count": 22,
   "metadata": {},
   "outputs": [
    {
     "name": "stdout",
     "output_type": "stream",
     "text": [
      "   *\n",
      "  **\n",
      " ***\n",
      "****\n"
     ]
    }
   ],
   "source": [
    "n = 4\n",
    "for i in range(1,n+1):\n",
    "    for j in range(1,(n+1)-i):\n",
    "        print(\" \",end=\"\")\n",
    "    for k in range(i):\n",
    "        print(\"*\",end=\"\")\n",
    "    print()"
   ]
  },
  {
   "cell_type": "code",
   "execution_count": null,
   "metadata": {},
   "outputs": [],
   "source": []
  }
 ],
 "metadata": {
  "kernelspec": {
   "display_name": "base",
   "language": "python",
   "name": "python3"
  },
  "language_info": {
   "codemirror_mode": {
    "name": "ipython",
    "version": 3
   },
   "file_extension": ".py",
   "mimetype": "text/x-python",
   "name": "python",
   "nbconvert_exporter": "python",
   "pygments_lexer": "ipython3",
   "version": "3.10.10"
  },
  "orig_nbformat": 4
 },
 "nbformat": 4,
 "nbformat_minor": 2
}
