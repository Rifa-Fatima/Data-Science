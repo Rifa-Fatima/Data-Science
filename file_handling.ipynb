{
 "cells": [
  {
   "cell_type": "markdown",
   "metadata": {},
   "source": [
    "# File handling\n",
    "- open\n",
    "- read\n",
    "- write\n",
    "- append\n",
    "- close❌\n",
    "    - with keyword is better"
   ]
  },
  {
   "cell_type": "code",
   "execution_count": 1,
   "metadata": {},
   "outputs": [
    {
     "data": {
      "text/plain": [
       "<_io.TextIOWrapper name='t1.py' mode='r' encoding='UTF-8'>"
      ]
     },
     "execution_count": 1,
     "metadata": {},
     "output_type": "execute_result"
    }
   ],
   "source": [
    "open('t1.py') # open and load into memory"
   ]
  },
  {
   "cell_type": "code",
   "execution_count": 2,
   "metadata": {},
   "outputs": [
    {
     "data": {
      "text/plain": [
       "\"from turtle import *\\nspeed('slowest')\\npencolor('red')\\n\\\\\\n# range(stop)\\n# range(start,stop)\\n# range(start,stop,step)\\n\\nfor i in range(1,11):\\n fd(90)\\n lt(360/10)\\n dot(10,'green')\\n write (i,font=('Calibri',20,'bold'))\\n\\n\\n#reverse\\ngoto(100,100)\\nfor i in range(10,0,-1):\\n fd(60)\\n lt(360/10)\\n dot(20,'red')\\n write(i,font = ('Calibri',20,'bold'))\\nmainloop()\\n\""
      ]
     },
     "execution_count": 2,
     "metadata": {},
     "output_type": "execute_result"
    }
   ],
   "source": [
    "open('t1.py').read()"
   ]
  },
  {
   "cell_type": "code",
   "execution_count": 6,
   "metadata": {},
   "outputs": [
    {
     "name": "stdout",
     "output_type": "stream",
     "text": [
      "from turtle import *\n",
      "speed('slowest')\n",
      "pencolor('red')\n",
      "\\\n",
      "# range(stop)\n",
      "# range(start,stop)\n",
      "# range(start,stop,step)\n",
      "\n",
      "for i in range(1,11):\n",
      " fd(90)\n",
      " lt(360/10)\n",
      " dot(10,'green')\n",
      " write (i,font=('Calibri',20,'bold'))\n",
      "\n",
      "\n",
      "#reverse\n",
      "goto(100,100)\n",
      "for i in range(10,0,-1):\n",
      " fd(60)\n",
      " lt(360/10)\n",
      " dot(20,'red')\n",
      " write(i,font = ('Calibri',20,'bold'))\n",
      "mainloop()\n",
      "\n"
     ]
    }
   ],
   "source": [
    "# reading a file using with statement\n",
    "with open('t1.py') as file:\n",
    "    content = file.read()\n",
    "print(content)"
   ]
  },
  {
   "cell_type": "code",
   "execution_count": 5,
   "metadata": {},
   "outputs": [
    {
     "name": "stdout",
     "output_type": "stream",
     "text": [
      "from turtle import *\n",
      "speed('slowest')\n",
      "pencolor('red')\n",
      "\\\n",
      "# range(stop)\n",
      "# range(start,stop)\n",
      "# range(start,stop,step)\n",
      "\n",
      "for i in range(1,11):\n",
      " fd(90)\n",
      " lt(360/10)\n",
      " dot(10,'green')\n",
      " write (i,font=('Calibri',20,'bold'))\n",
      "\n",
      "\n",
      "#reverse\n",
      "goto(100,100)\n",
      "for i in range(10,0,-1):\n",
      " fd(60)\n",
      " lt(360/10)\n",
      " dot(20,'red')\n",
      " write(i,font = ('Calibri',20,'bold'))\n",
      "mainloop()\n",
      "\n"
     ]
    }
   ],
   "source": [
    "# reading a file using with statement if error\n",
    "with open('t1.py', encoding = 'utf-8', errors = 'ignore') as file:\n",
    "    content = file.read()\n",
    "print(content)"
   ]
  },
  {
   "cell_type": "code",
   "execution_count": 8,
   "metadata": {},
   "outputs": [
    {
     "name": "stdout",
     "output_type": "stream",
     "text": [
      "4693429\n"
     ]
    }
   ],
   "source": [
    "path = r'C:\\Users\\Aman\\OneDrive\\Pictures\\God of War\\ScreenShot-2022-9-6_23-1-49.png'\n",
    "with open(path,'rb') as file:\n",
    "    bytes = file.read()\n",
    "print(len(bytes))"
   ]
  },
  {
   "cell_type": "code",
   "execution_count": 9,
   "metadata": {},
   "outputs": [],
   "source": [
    "data = 'Rifa\\nFatima'\n",
    "with open ('oaths.txt','w') as file:\n",
    "    file.write(data)"
   ]
  },
  {
   "cell_type": "code",
   "execution_count": 11,
   "metadata": {},
   "outputs": [
    {
     "name": "stdout",
     "output_type": "stream",
     "text": [
      "kahani khatam\n"
     ]
    }
   ],
   "source": [
    "with open('kahani.txt','w') as file:\n",
    "    while True:\n",
    "        line = input('>>>>')\n",
    "        if not line:\n",
    "            break\n",
    "        file.writelines(line + '\\n')\n",
    "    print('kahani khatam')"
   ]
  },
  {
   "cell_type": "code",
   "execution_count": 15,
   "metadata": {},
   "outputs": [],
   "source": [
    "# adding content to existing file \n",
    "with open('oaths.txt','a') as file:\n",
    "    file.write('\\nNew data')\n",
    "    file.write('\\nNewest data')"
   ]
  },
  {
   "cell_type": "markdown",
   "metadata": {},
   "source": [
    "# os library"
   ]
  },
  {
   "cell_type": "code",
   "execution_count": 16,
   "metadata": {},
   "outputs": [],
   "source": [
    "import os"
   ]
  },
  {
   "cell_type": "code",
   "execution_count": 17,
   "metadata": {},
   "outputs": [
    {
     "name": "stdout",
     "output_type": "stream",
     "text": [
      "the current path is:\n",
      "c:\\Python\n"
     ]
    }
   ],
   "source": [
    "print('the current path is:')\n",
    "print(os.getcwd())"
   ]
  },
  {
   "cell_type": "code",
   "execution_count": 18,
   "metadata": {},
   "outputs": [
    {
     "name": "stdout",
     "output_type": "stream",
     "text": [
      "all the content in current directory\n"
     ]
    },
    {
     "data": {
      "text/plain": [
       "['.git',\n",
       " 'basics.ipynb',\n",
       " 'condition.ipynb',\n",
       " 'dictionary.ipynb',\n",
       " 'file_handling.ipynb',\n",
       " 'hello.py',\n",
       " 'kahani.txt',\n",
       " 'list.ipynb',\n",
       " 'loops.ipynb',\n",
       " 'loopsPractice.ipynb',\n",
       " 'oaths.txt',\n",
       " 'stringPractice.ipynb',\n",
       " 'strings.ipynb',\n",
       " 't1.py',\n",
       " 't2.py',\n",
       " 't3.py',\n",
       " 't4.py',\n",
       " 'tuple_n_sets.ipynb']"
      ]
     },
     "execution_count": 18,
     "metadata": {},
     "output_type": "execute_result"
    }
   ],
   "source": [
    "print(\"all the content in current directory\")\n",
    "os.listdir()"
   ]
  },
  {
   "cell_type": "code",
   "execution_count": 21,
   "metadata": {},
   "outputs": [
    {
     "name": "stdout",
     "output_type": "stream",
     "text": [
      "All content of some location\n"
     ]
    },
    {
     "data": {
      "text/plain": [
       "['ScreenShot-2022-8-30_13-17-11.png',\n",
       " 'ScreenShot-2022-8-30_13-17-18.png',\n",
       " 'ScreenShot-2022-9-6_23-1-49.png']"
      ]
     },
     "execution_count": 21,
     "metadata": {},
     "output_type": "execute_result"
    }
   ],
   "source": [
    "print('All content of some location')\n",
    "path = r\"C:\\Users\\Aman\\OneDrive\\Pictures\\God of War\"\n",
    "os.listdir(path)"
   ]
  },
  {
   "cell_type": "code",
   "execution_count": 22,
   "metadata": {},
   "outputs": [
    {
     "name": "stdout",
     "output_type": "stream",
     "text": [
      "C:\\Users\\Aman\\OneDrive\\Pictures\\God of War\\ScreenShot-2022-8-30_13-17-11.png\n",
      "C:\\Users\\Aman\\OneDrive\\Pictures\\God of War\\ScreenShot-2022-8-30_13-17-18.png\n",
      "C:\\Users\\Aman\\OneDrive\\Pictures\\God of War\\ScreenShot-2022-9-6_23-1-49.png\n"
     ]
    }
   ],
   "source": [
    "for root, dirs, files in os.walk(r\"C:\\Users\\Aman\\OneDrive\\Pictures\\God of War\", topdown = False):\n",
    "    for name in files:\n",
    "        print(os.path.join(root,name))\n",
    "        for name in dirs:\n",
    "            print(os.path.join(root,name))"
   ]
  },
  {
   "cell_type": "code",
   "execution_count": null,
   "metadata": {},
   "outputs": [],
   "source": []
  }
 ],
 "metadata": {
  "kernelspec": {
   "display_name": "base",
   "language": "python",
   "name": "python3"
  },
  "language_info": {
   "codemirror_mode": {
    "name": "ipython",
    "version": 3
   },
   "file_extension": ".py",
   "mimetype": "text/x-python",
   "name": "python",
   "nbconvert_exporter": "python",
   "pygments_lexer": "ipython3",
   "version": "3.10.10"
  },
  "orig_nbformat": 4
 },
 "nbformat": 4,
 "nbformat_minor": 2
}
